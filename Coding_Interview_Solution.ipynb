{
  "nbformat": 4,
  "nbformat_minor": 0,
  "metadata": {
    "colab": {
      "provenance": []
    },
    "kernelspec": {
      "name": "python3",
      "display_name": "Python 3"
    },
    "language_info": {
      "name": "python"
    }
  },
  "cells": [
    {
      "cell_type": "markdown",
      "source": [
        "# Coding Interview\n",
        "\n",
        "The goal of this exercise is to simulate a retrieval problem.\n",
        "You have a vector `query` representing an embedding of a query, and a  `vector_db` representing a matrix of document embeddings.\n",
        "\n",
        "We will use `cosine_similarity` as a metric to compute the similarity between the query and the vector_db, and get the top similarity scores, and top vectors (most similar documents to the query).\n",
        "\n",
        "You have 20 minutes to implement the following functions:\n",
        "\n",
        "* cosine_similarity\n",
        "* get_top_k_scores\n",
        "* get_top_k_vectors\n",
        "\n",
        "\n",
        "Once done, you need to implement test cases for each function to make sure they working as expected. You should propose the test for each function by:\n",
        "1. Calling the function to be tested.\n",
        "2. Use assertions to check your proposed conditions.\n",
        "\n",
        "For instance, `test_cosine_similarity` function should look like this:\n",
        "\n",
        "\n",
        "```\n",
        "def test_cosine_similarity(query, vector_db):\n",
        "  similarity = cosine_similarity(query, vector_db) # call the target function\n",
        "  assert condition_1, \"message 1\" # assert condition 1 is met\n",
        "  assert condition_2, \"message 2\" # assert condition 1 is met\n",
        "```\n",
        "\n",
        "Use as many assertions as needed.\n",
        "\n",
        "\n",
        "\n",
        "> **N.B.**: You will be evaluated on the correctness of the solution, completness of test cases, and the effciency of your code. Good coding!\n",
        "\n",
        "\n",
        "\n",
        "\n",
        "---\n",
        "\n",
        "### Reminder\n",
        "\n",
        "1. Cosine similarity formula for 2 vectors A and B:\n",
        "\n",
        "$$\n",
        "\\frac{A ⋅ B}{||A||_2\\cdot||B||_2}, where\\ ||.||_2\\ is\\ the\\ l_2\\ norm\n",
        "$$\n",
        "\n",
        "2. You only need `numpy`. You can get the documentation of any function using the `?` operator. For instance, to get the documentation of `np.argsort`, you can execute the command `np.argsort?` and you will get the documentation."
      ],
      "metadata": {
        "id": "WPGh93MWDSbz"
      }
    },
    {
      "cell_type": "markdown",
      "source": [
        "# Imports"
      ],
      "metadata": {
        "id": "tk0ghbdMG1aL"
      }
    },
    {
      "cell_type": "code",
      "source": [
        "import numpy as np"
      ],
      "metadata": {
        "id": "k4ze1CzI5wz2"
      },
      "execution_count": 1,
      "outputs": []
    },
    {
      "cell_type": "markdown",
      "source": [
        "# Target Functions"
      ],
      "metadata": {
        "id": "6PeP8umLG4IW"
      }
    },
    {
      "cell_type": "code",
      "execution_count": 230,
      "metadata": {
        "id": "s8hhGdSd3Yss"
      },
      "outputs": [],
      "source": [
        "def cosine_similarity(query, vector_db):\n",
        "  \"\"\"\n",
        "  query: array of shape (d, 1), representing the embedding of a query with d dimensions\n",
        "  vector_db: array of shape (n, d), representing the embedding of a n documents, each of d dimensions\n",
        "  return: array of shape (n, 1), representing similarity scores between the query and each entry in the vector_db.\n",
        "  \"\"\"\n",
        "  query = query / np.sqrt((query**2).sum())\n",
        "  vector_db = vector_db / np.sqrt((vector_db**2).sum(axis=1, keepdims=True))\n",
        "  return vector_db@query\n",
        "\n",
        "\n",
        "def get_top_k_scores(similarity, k):\n",
        "  \"\"\"\n",
        "  similarity: array of shape (n, 1) containing n similarity scores.\n",
        "  k: (int) number of top scores to return\n",
        "  return: array of top k scores\n",
        "  \"\"\"\n",
        "  return np.sort(similarity)[:-k-1:-1]\n",
        "\n",
        "\n",
        "def get_top_k_vectors(similarity, k, vector_db):\n",
        "  \"\"\"\n",
        "  similarity: array of shape (n, 1) containing n similarity scores.\n",
        "  k: (int) number of top vectors.\n",
        "  vector_db: array of shape (n, d), representing the embedding of a n documents, each of d dimensions\n",
        "  return: array of top k vectors in the vector_db\n",
        "  \"\"\"\n",
        "  indices = np.argsort(similarity, axis=0)[:-k-1:-1]\n",
        "  return vector_db[indices.flatten()]"
      ]
    },
    {
      "cell_type": "markdown",
      "source": [
        "# Test Functions"
      ],
      "metadata": {
        "id": "yifO5BPUG9nr"
      }
    },
    {
      "cell_type": "code",
      "source": [
        "def test_cosine_similarity(query, vector_db):\n",
        "  similarity = cosine_similarity(query, vector_db)\n",
        "  assert similarity.min() >= -1, \"cosine similarity could not be less than -1\"\n",
        "  assert similarity.max() <= 1, \"cosine similarity could not be greater than 1\"\n",
        "  assert len(similarity) == len(vector_db), \"We should have a score for each vector\"\n",
        "\n",
        "  print(\"test_cosine_similarity passed!\")\n",
        "\n",
        "\n",
        "def test_get_top_k_scores(similarity, k):\n",
        "  top_scores = get_top_k_scores(similarity, k)\n",
        "  assert len(top_scores) == k, f\"We should have {k} scores\"\n",
        "  assert np.all(np.diff(top_scores) >= 0), \"scores should be sorted in descending order\"\n",
        "\n",
        "  print(\"test_get_top_k_scores passed!\")\n",
        "\n",
        "\n",
        "def test_get_top_k_vectors(similarity, k, vector_db):\n",
        "  top_vectors = get_top_k_vectors(similarity, k, vector_db)\n",
        "  assert len(top_vectors) == k, f\"We should have {k} vectors\"\n",
        "  assert top_vectors.shape[1] == vector_db.shape[1], f\"Vectors should have {Y.shape[1]} dimension\"\n",
        "\n",
        "  unique_vector_db = np.unique(vector_db, axis=0)\n",
        "  concat_db = np.concatenate([unique_vector_db, top_vectors], axis=0)\n",
        "  assert np.unique(concat_db, axis=0).shape == unique_vector_db.shape, \"Top vectors should be part of all vectors\"\n",
        "\n",
        "  print(\"test_get_top_k_vectors passed!\")\n"
      ],
      "metadata": {
        "id": "ZpE6iUUM91nv"
      },
      "execution_count": 231,
      "outputs": []
    },
    {
      "cell_type": "markdown",
      "source": [
        "# Tests Execution\n",
        "\n",
        "Here you can check if all your tests passed."
      ],
      "metadata": {
        "id": "wJu2HgRYHAQr"
      }
    },
    {
      "cell_type": "code",
      "source": [
        "dimension = 100\n",
        "number_of_vectors = 600\n",
        "top_k = 10\n",
        "query = np.random.randn(dimension, 1)\n",
        "vector_db = np.random.randn(number_of_vectors, dimension)"
      ],
      "metadata": {
        "id": "n5HcEIJP4Dsn"
      },
      "execution_count": 232,
      "outputs": []
    },
    {
      "cell_type": "code",
      "source": [
        "similarity = cosine_similarity(query, vector_db)"
      ],
      "metadata": {
        "id": "9Y6zx52MBs3E"
      },
      "execution_count": 233,
      "outputs": []
    },
    {
      "cell_type": "code",
      "source": [
        "test_cosine_similarity(query, vector_db)"
      ],
      "metadata": {
        "colab": {
          "base_uri": "https://localhost:8080/"
        },
        "id": "4xM4SdNlAeVc",
        "outputId": "b2bedd98-8345-4a27-b1a9-8798554f27d9"
      },
      "execution_count": 234,
      "outputs": [
        {
          "output_type": "stream",
          "name": "stdout",
          "text": [
            "test_cosine_similarity passed!\n"
          ]
        }
      ]
    },
    {
      "cell_type": "code",
      "source": [
        "test_get_top_k_scores(similarity, top_k)"
      ],
      "metadata": {
        "colab": {
          "base_uri": "https://localhost:8080/"
        },
        "id": "MpnN9JAWBnB8",
        "outputId": "b0d1c91d-8399-4b03-ffb1-ce185039d64e"
      },
      "execution_count": 237,
      "outputs": [
        {
          "output_type": "stream",
          "name": "stdout",
          "text": [
            "test_get_top_k_scores passed!\n"
          ]
        }
      ]
    },
    {
      "cell_type": "code",
      "source": [
        "test_get_top_k_vectors(similarity, top_k, vector_db)"
      ],
      "metadata": {
        "colab": {
          "base_uri": "https://localhost:8080/"
        },
        "id": "p4dMNDWxCR7N",
        "outputId": "c7abad2b-559c-48da-a393-9c38035f5a46"
      },
      "execution_count": 238,
      "outputs": [
        {
          "output_type": "stream",
          "name": "stdout",
          "text": [
            "test_get_top_k_vectors passed!\n"
          ]
        }
      ]
    }
  ]
}