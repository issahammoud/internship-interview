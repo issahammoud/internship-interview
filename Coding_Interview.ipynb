{
  "cells": [
    {
      "cell_type": "markdown",
      "metadata": {
        "id": "WPGh93MWDSbz"
      },
      "source": [
        "# Coding Interview\n",
        "\n",
        "The goal of this exercise is to simulate a retrieval problem. You should implement all functions yourself and not use predefined ones, e.g. from `sklearn`.<br>\n",
        "You have a vector `query` representing an embedding of a query, and a  `vector_db` representing a matrix of documents embeddings.\n",
        "\n",
        "We will use `cosine_similarity` as a metric to compute the similarity between the query and the vector_db, get the top similarity scores, and top vectors (most similar documents to the query).\n",
        "\n",
        "You have **20 minutes** to implement the following functions:\n",
        "\n",
        "* cosine_similarity\n",
        "* get_top_k_scores\n",
        "* get_top_k_vectors\n",
        "\n",
        "\n",
        "Once done, you need to implement the test cases for each function to make sure they are working as expected. You should propose the test for each function by:\n",
        "1. Calling the function to be tested.\n",
        "2. Use assertions to check your proposed conditions.\n",
        "\n",
        "For instance, `test_cosine_similarity` function should look like this:\n",
        "\n",
        "\n",
        "```python\n",
        "def test_cosine_similarity(query, vector_db):\n",
        "  similarity = cosine_similarity(query, vector_db) # call the target function\n",
        "  assert condition_1, \"message 1\" # assert condition 1 is met\n",
        "  assert condition_2, \"message 2\" # assert condition 2 is met\n",
        "\n",
        "  print(\"test_cosine_similarity passed!\")\n",
        "```\n",
        "\n",
        "**Use as many assertions as needed.**\n",
        "\n",
        "\n",
        "\n",
        "> *N.B.*: *You will be evaluated on the correctness of the solution, completness of test cases, and the effciency of your code. Good coding!*\n",
        "\n",
        "\n",
        "\n",
        "\n",
        "---\n",
        "\n",
        "### Reminder\n",
        "\n",
        "1. Cosine similarity formula for 2 vectors A and B:\n",
        "\n",
        "$$\n",
        "\\frac{A ⋅ B}{||A||_2\\cdot||B||_2}, where\\ ||.||_2\\ is\\ the\\ l_2\\ norm\n",
        "$$\n",
        "\n",
        "2. You can get the documentation of any function using the `?` operator. For instance, to get the documentation of `np.argsort`, you can execute the command `np.argsort?`. To get the documentation of `np.sort`, you can execute `np.sort?`."
      ]
    },
    {
      "cell_type": "markdown",
      "metadata": {
        "id": "tk0ghbdMG1aL"
      },
      "source": [
        "# Imports"
      ]
    },
    {
      "cell_type": "code",
      "execution_count": null,
      "metadata": {
        "id": "k4ze1CzI5wz2"
      },
      "outputs": [],
      "source": [
        "import numpy as np"
      ]
    },
    {
      "cell_type": "markdown",
      "metadata": {
        "id": "6PeP8umLG4IW"
      },
      "source": [
        "# Target Functions"
      ]
    },
    {
      "cell_type": "code",
      "execution_count": null,
      "metadata": {
        "id": "s8hhGdSd3Yss"
      },
      "outputs": [],
      "source": [
        "def cosine_similarity(query, vector_db):\n",
        "  \"\"\"\n",
        "  query: array of shape (d, 1), representing the embedding of a query with d dimensions.\n",
        "  vector_db: array of shape (n, d), representing the embedding of n documents, each of d dimensions.\n",
        "  return: array of shape (n, 1), representing similarity scores between the query and each entry in the vector_db.\n",
        "  \"\"\"\n",
        "  raise NotImplementedError\n",
        "\n",
        "\n",
        "def get_top_k_scores(similarity, k):\n",
        "  \"\"\"\n",
        "  similarity: array of shape (n, 1) containing n similarity scores.\n",
        "  k: (int) number of top scores to return.\n",
        "  return: array of top k scores in descending order.\n",
        "  \"\"\"\n",
        "  raise NotImplementedError\n",
        "\n",
        "\n",
        "def get_top_k_vectors(similarity, k, vector_db):\n",
        "  \"\"\"\n",
        "  similarity: array of shape (n, 1) containing n similarity scores.\n",
        "  k: (int) number of top vectors.\n",
        "  vector_db: array of shape (n, d), representing the embedding of a n documents, each of d dimensions\n",
        "  return: array of top k vectors in the vector_db in descending order of their scores\n",
        "  \"\"\"\n",
        "  raise NotImplementedError"
      ]
    },
    {
      "cell_type": "markdown",
      "metadata": {
        "id": "yifO5BPUG9nr"
      },
      "source": [
        "# Test Functions"
      ]
    },
    {
      "cell_type": "code",
      "execution_count": null,
      "metadata": {
        "id": "ZpE6iUUM91nv"
      },
      "outputs": [],
      "source": [
        "def test_cosine_similarity(query, vector_db):\n",
        "  similarity = cosine_similarity(query, vector_db)\n",
        "  # Add assertions here\n",
        "\n",
        "  print(\"test_cosine_similarity passed!\")\n",
        "\n",
        "\n",
        "def test_get_top_k_scores(similarity, k):\n",
        "  top_scores = get_top_k_scores(similarity, k)\n",
        "  # Add assertions here\n",
        "\n",
        "  print(\"test_get_top_k_scores passed!\")\n",
        "\n",
        "\n",
        "def test_get_top_k_vectors(similarity, k, vector_db):\n",
        "  top_vectors = get_top_k_vectors(similarity, k, vector_db)\n",
        "  # Add assertions here\n",
        "\n",
        "  print(\"test_get_top_k_vectors passed!\")\n"
      ]
    },
    {
      "cell_type": "markdown",
      "metadata": {
        "id": "wJu2HgRYHAQr"
      },
      "source": [
        "# Tests Execution\n",
        "\n",
        "Here you can check if all your tests passed."
      ]
    },
    {
      "cell_type": "code",
      "execution_count": null,
      "metadata": {
        "id": "n5HcEIJP4Dsn"
      },
      "outputs": [],
      "source": [
        "dimension = 100\n",
        "number_of_vectors = 600\n",
        "top_k = 10\n",
        "query = np.random.randn(dimension, 1)\n",
        "vector_db = np.random.randn(number_of_vectors, dimension)"
      ]
    },
    {
      "cell_type": "code",
      "execution_count": null,
      "metadata": {
        "id": "9Y6zx52MBs3E"
      },
      "outputs": [],
      "source": [
        "similarity = cosine_similarity(query, vector_db)"
      ]
    },
    {
      "cell_type": "code",
      "execution_count": null,
      "metadata": {
        "id": "4xM4SdNlAeVc"
      },
      "outputs": [],
      "source": [
        "test_cosine_similarity(query, vector_db)"
      ]
    },
    {
      "cell_type": "code",
      "execution_count": null,
      "metadata": {
        "id": "MpnN9JAWBnB8"
      },
      "outputs": [],
      "source": [
        "test_get_top_k_scores(similarity, top_k)"
      ]
    },
    {
      "cell_type": "code",
      "execution_count": null,
      "metadata": {
        "id": "p4dMNDWxCR7N"
      },
      "outputs": [],
      "source": [
        "test_get_top_k_vectors(similarity, top_k, vector_db)"
      ]
    },
    {
      "cell_type": "code",
      "execution_count": null,
      "metadata": {
        "id": "rL4CKO2taeiW"
      },
      "outputs": [],
      "source": []
    }
  ],
  "metadata": {
    "colab": {
      "provenance": []
    },
    "kernelspec": {
      "display_name": "Python 3",
      "name": "python3"
    },
    "language_info": {
      "name": "python"
    }
  },
  "nbformat": 4,
  "nbformat_minor": 0
}
